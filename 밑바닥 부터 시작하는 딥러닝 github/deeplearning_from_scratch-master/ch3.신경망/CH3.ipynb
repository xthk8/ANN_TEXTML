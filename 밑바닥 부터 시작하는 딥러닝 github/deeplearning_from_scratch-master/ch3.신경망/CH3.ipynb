{
 "cells": [
  {
   "cell_type": "markdown",
   "metadata": {},
   "source": [
    "### 계단함수"
   ]
  },
  {
   "cell_type": "code",
   "execution_count": null,
   "metadata": {},
   "outputs": [],
   "source": [
    "# 계단함수 (넘파이 배열 가능하도록)\n",
    "import numpy as np\n",
    "\n",
    "def step_function(x) :\n",
    "    y = x > 0                   # y : array[False, True, True], dtype=bool\n",
    "    return y.astype(np.int)     # y : array[0,1,1]\n",
    "\n",
    "x = np.array([-1.0, 1.0, 2.0])\n",
    "\n",
    "step_function(x)"
   ]
  },
  {
   "cell_type": "code",
   "execution_count": 3,
   "metadata": {},
   "outputs": [
    {
     "data": {
      "image/png": "[encoded data removed]",
      "text/plain": [
       "<Figure size 640x480 with 1 Axes>"
      ]
     },
     "metadata": {},
     "output_type": "display_data"
    }
   ],
   "source": [
    "# 계단함수 그래프\n",
    "import numpy as np\n",
    "import matplotlib.pylab as plt\n",
    "\n",
    "def step_function2(x) :\n",
    "    return np.array(x>0, dtype=np.int64)\n",
    "\n",
    "x = np.arange(-5.0, 5.0, 0.1)\n",
    "y = step_function2(x)\n",
    "\n",
    "plt.plot(x,y)\n",
    "plt.ylim(-0.1, 1.1)\n",
    "plt.show()"
   ]
  },
  {
   "cell_type": "markdown",
   "metadata": {},
   "source": [
    "******\n",
    "### 시그모이드 함수"
   ]
  },
  {
   "cell_type": "code",
   "execution_count": 8,
   "metadata": {},
   "outputs": [
    {
     "name": "stdout",
     "output_type": "stream",
     "text": [
      "[0.00669285 0.99330715 0.52497919]\n"
     ]
    },
    {
     "data": {
      "image/png": "[encoded data removed]",
      "text/plain": [
       "<Figure size 640x480 with 1 Axes>"
      ]
     },
     "metadata": {},
     "output_type": "display_data"
    }
   ],
   "source": [
    "import numpy as np\n",
    "\n",
    "def sigmoid(x) :\n",
    "    return 1/(1+np.exp(-x))\n",
    "\n",
    "x = np.array([-5.0, 5.0, 0.1])\n",
    "print(sigmoid(x))\n",
    "\n",
    "x2 = np.arange(-5.0, 5.0, 0.1)\n",
    "y = sigmoid(x2)\n",
    "\n",
    "# 시그모이드 그래프\n",
    "plt.plot(x2,y)\n",
    "plt.ylim(-0.1, 1.1)\n",
    "plt.show()"
   ]
  },
  {
   "cell_type": "markdown",
   "metadata": {},
   "source": [
    "****\n",
    "### ReLU"
   ]
  },
  {
   "cell_type": "code",
   "execution_count": null,
   "metadata": {},
   "outputs": [],
   "source": [
    "def relu(x) :\n",
    "    return np.maximum(0,x)  # 두 입력 중 큰 값을 선택하여 반환"
   ]
  },
  {
   "cell_type": "markdown",
   "metadata": {},
   "source": [
    "*****\n",
    "### 다차원 배열"
   ]
  },
  {
   "cell_type": "code",
   "execution_count": 17,
   "metadata": {},
   "outputs": [
    {
     "data": {
      "text/plain": [
       "(3, 2)"
      ]
     },
     "execution_count": 17,
     "metadata": {},
     "output_type": "execute_result"
    }
   ],
   "source": [
    "import numpy as np\n",
    "\n",
    "A = np.array([1,2,3,4])     # 1차원배열\n",
    "np.ndim(A)                  # 1\n",
    "A.shape                     # [4,]\n",
    "A.shape[0]                  # 4\n",
    "\n",
    "B = np.array([[1,2],[3,4],[5,6]])\n",
    "np.ndim(B)\n",
    "B.shape"
   ]
  },
  {
   "cell_type": "code",
   "execution_count": 20,
   "metadata": {},
   "outputs": [
    {
     "data": {
      "text/plain": [
       "array([[19, 22],\n",
       "       [43, 50]])"
      ]
     },
     "execution_count": 20,
     "metadata": {},
     "output_type": "execute_result"
    }
   ],
   "source": [
    "A = np.array([[1,2,3],[4,5,6]])\n",
    "A.shape\n",
    "\n",
    "B = np.array([[1,2],[3,4],[5,6]])\n",
    "B.shape\n",
    "\n",
    "np.dot(A,B)     # 두 행렬의 곱"
   ]
  },
  {
   "cell_type": "code",
   "execution_count": 23,
   "metadata": {},
   "outputs": [
    {
     "name": "stdout",
     "output_type": "stream",
     "text": [
      "[[1 2]\n",
      " [3 4]\n",
      " [5 6]] [7 8]\n"
     ]
    },
    {
     "data": {
      "text/plain": [
       "array([23, 53, 83])"
      ]
     },
     "execution_count": 23,
     "metadata": {},
     "output_type": "execute_result"
    }
   ],
   "source": [
    "A = np.array([[1,2],[3,4],[5,6]])\n",
    "B = np.array([7,8])\n",
    "\n",
    "print(A,B)\n",
    "\n",
    "np.dot(A,B)"
   ]
  },
  {
   "cell_type": "code",
   "execution_count": 34,
   "metadata": {},
   "outputs": [
    {
     "data": {
      "text/plain": [
       "array([1. , 0.5])"
      ]
     },
     "execution_count": 34,
     "metadata": {},
     "output_type": "execute_result"
    }
   ],
   "source": [
    "# 3층 신경망\n",
    "X = np.array([1.0, 0.5])\n",
    "W1 = np.array([[0.1, 0.3, 0.5],[0.2, 0.4, 0.6]])\n",
    "B1 = np.array([0.1, 0.2, 0.3])\n",
    "\n",
    "A1 = np.dot(X, W1) + B1\n",
    "# print(A1)\n",
    "\n",
    "def sigmoid(x) :\n",
    "    return 1/(1+np.exp(-x))\n",
    "\n",
    "Z1 = sigmoid(A1)\n",
    "# print(Z1)\n",
    "\n",
    "W2 = np.array([[0.1, 0.4],[0.2, 0.5],[0.3, 0.6]])\n",
    "B2 = np.array([0.1, 0.2])\n",
    "\n",
    "A2 = np.dot(Z1, W2) + B2\n",
    "Z2 = sigmoid(A2)\n",
    "Z2 \n",
    "\n",
    "def identity_function(x) : \n",
    "    return X\n",
    "\n",
    "W3 = np.array([[0.1, 0.3], [0.2, 0.4]])\n",
    "B3 = np.array([0.1, 0.2])\n",
    "\n",
    "A3 = np.dot(Z2, W3)\n",
    "Y = identity_function(A3)       # 또는 Y = A3\n",
    "Y"
   ]
  },
  {
   "cell_type": "code",
   "execution_count": null,
   "metadata": {},
   "outputs": [],
   "source": [
    "import numpy as np\n",
    "\n",
    "'''\n",
    "입력층(0층) 2개, 첫 번째 은닉층(1층) 3개, 두 번째 은닉층(2층) 2개, 출력층(3층) 2개의 뉴런으로 구성.\n",
    "1, 2층의 활성화 함수 : 시그모이드\n",
    "3층의 활성화 함수 : 항등함수\n",
    "\n",
    "출력층의 활성화 함수는 풀고자 하는 문제의 성질에 맞게 정한다.\n",
    "예를 들어 회귀에는 항등함수, 2클래스 분류에는 시그모이드 함수,\n",
    "다중 클래스 분류에는 소프트맥스 함수를 사용하는 것이 일반적이다.\n",
    "'''\n",
    "\n",
    "\n",
    "# 3.2.4 시그모이드 함수 구현하기\n",
    "def sigmoid(x):\n",
    "    return 1 / (1 + np.exp(-x))\n",
    "\n",
    "\n",
    "# 항등함수\n",
    "def identity_function(x):\n",
    "    return x\n",
    "\n",
    "\n",
    "# 3.4.3 구현 정리\n",
    "def init_network():\n",
    "    network = {}\n",
    "    network['W1'] = np.array([[0.1, 0.3, 0.5], [0.2, 0.4, 0.6]])\n",
    "    network['b1'] = np.array([0.1, 0.2, 0.3])\n",
    "    network['W2'] = np.array([[0.1, 0.4], [0.2, 0.5], [0.3, 0.6]])\n",
    "    network['b2'] = np.array([0.1, 0.2])\n",
    "    network['W3'] = np.array([[0.1, 0.3], [0.2, 0.4]])\n",
    "    network['b3'] = np.array([0.1, 0.2])\n",
    "\n",
    "    return network\n",
    "\n",
    "\n",
    "def forward(network, x):        # 다층 퍼셉트론 \n",
    "    W1, W2, W3 = network['W1'], network['W2'], network['W3']\n",
    "    b1, b2, b3 = network['b1'], network['b2'], network['b3']\n",
    "\n",
    "    a1 = np.dot(x, W1) + b1\n",
    "    z1 = sigmoid(a1)\n",
    "    a2 = np.dot(z1, W2) + b2\n",
    "    z2 = sigmoid(a2)\n",
    "    a3 = np.dot(z2, W3) + b3\n",
    "    y = identity_function(a3)\n",
    "\n",
    "    return y\n",
    "\n",
    "\n",
    "network = init_network()\n",
    "x = np.array([1.0, 0.5])\n",
    "y = forward(network, x)  # [ 0.31682708  0.69627909]\n",
    "\n",
    "print(y)\n"
   ]
  },
  {
   "attachments": {
    "image.png": {
     "image/png": "[encoded data removed]"
    }
   },
   "cell_type": "markdown",
   "metadata": {},
   "source": [
    "****\n",
    "### 소프트맥스 함수\n",
    "![image.png](attachment:image.png)"
   ]
  },
  {
   "cell_type": "code",
   "execution_count": 37,
   "metadata": {},
   "outputs": [
    {
     "name": "stdout",
     "output_type": "stream",
     "text": [
      "[ 1.34985881 18.17414537 54.59815003]\n",
      "74.1221542101633\n",
      "[0.01821127 0.24519181 0.73659691]\n"
     ]
    }
   ],
   "source": [
    "import numpy as np\n",
    "\n",
    "a = np.array([0.3, 2.9, 4.0])\n",
    "\n",
    "def softmax(a) :\n",
    "    exp_a = np.exp(a)\n",
    "    # print(exp_a)\n",
    "    sum_exp_a = np.sum(exp_a)       # 지수함수의 합 = 소프트맥스 함수의 분모\n",
    "    # print(sum_exp_a)\n",
    "    y = exp_a / sum_exp_a\n",
    "    # print(y)\n",
    "\n",
    "    return y"
   ]
  },
  {
   "attachments": {
    "image.png": {
     "image/png": "[encoded data removed]"
    }
   },
   "cell_type": "markdown",
   "metadata": {},
   "source": [
    "#### \"오버플로\" 문제 발생\n",
    "- 지수함수에 의해 큰 값이 반환되어 이 값들끼리 나눗셈을 수행하면 결과 수치가 불안정\n",
    "- 오버플로 : 표현할 수 있는 수의 범위가 한정되어 너무 큰 값을 표현할 수 없음 \n",
    "- 개선한 수식\n",
    "\n",
    "![image.png](attachment:image.png)\n",
    "\n",
    "-> 소프트맥스의 지수함수를 계산할 때 어떤 정수를 더하거나 빼도 결과는 바뀌지 않음\n",
    "\n",
    "-> 오버플로를 막을 목적으로는 입력 신호 중 최댓값을 이용"
   ]
  },
  {
   "cell_type": "code",
   "execution_count": 48,
   "metadata": {},
   "outputs": [
    {
     "name": "stdout",
     "output_type": "stream",
     "text": [
      "[4.50623236e-05 9.92563729e-01 7.39120826e-03] 1.0000000000000002\n"
     ]
    },
    {
     "name": "stderr",
     "output_type": "stream",
     "text": [
      "C:\\Users\\USER\\AppData\\Local\\Temp\\ipykernel_26292\\1426612558.py:3: RuntimeWarning: overflow encountered in exp\n",
      "  np.exp(a) / np.sum(np.exp(a))       # 소프트맥스 함수 계산\n",
      "C:\\Users\\USER\\AppData\\Local\\Temp\\ipykernel_26292\\1426612558.py:3: RuntimeWarning: invalid value encountered in divide\n",
      "  np.exp(a) / np.sum(np.exp(a))       # 소프트맥스 함수 계산\n"
     ]
    }
   ],
   "source": [
    "# 오버플로 예방 예시\n",
    "a = np.array([1010, 1000, 990])\n",
    "np.exp(a) / np.sum(np.exp(a))       # 소프트맥스 함수 계산\n",
    "# 위 계산 결과 : array([nan, nan, nan]) => 제대로 계산되지 않음 (overflow)\n",
    "\n",
    "c = np.max(a)       # c = 1010(최댓값)\n",
    "a - c               # array([  0, -10, -20])\n",
    "\n",
    "np.exp(a-c) / np.sum(np.exp(a-c))   # array([9.99954600e-01, 4.53978686e-05, 2.06106005e-09]) \n",
    "# 모든 입력값에서 최댓값을 뺀 후 계산하면 정상적으로 계산됨\n",
    "\n",
    "\n",
    "# 이를 이용하여 소프트맥스 함수 수정\n",
    "\n",
    "def softmax_alter(a) : \n",
    "    c = np.max(X)\n",
    "    exp_a = np.exp(a-c)     # 오버플로 대책\n",
    "    sum_exp_a = np.sum(exp_a)\n",
    "    y = exp_a / sum_exp_a\n",
    "\n",
    "    return y \n",
    "\n",
    "print(softmax_alter(x), np.sum(softmax_alter(x)))\n",
    "# 소프트맥스 함수의 출력은 0~1 사이의 실수 & 함수 출력의 총합은 1 ****** ==> 출력을 '확률'로 해석 가능\n"
   ]
  },
  {
   "cell_type": "markdown",
   "metadata": {},
   "source": [
    "*******************\n",
    "### 손글씨 숫자 인식"
   ]
  },
  {
   "cell_type": "code",
   "execution_count": 1,
   "metadata": {},
   "outputs": [
    {
     "name": "stdout",
     "output_type": "stream",
     "text": [
      "(60000, 784)\n",
      "(60000,)\n",
      "(10000, 784)\n",
      "(10000,)\n"
     ]
    }
   ],
   "source": [
    "import sys\n",
    "import os\n",
    "import pickle\n",
    "import numpy as np\n",
    "sys.path.append(os.pardir)  # 부모 디렉터리의 파일을 가져올 수 있도록 설정\n",
    "from dataset.mnist import load_mnist\n",
    "from common.functions import sigmoid, softmax\n",
    "\n",
    "\n",
    "# 3.6.1 MNIST 데이터셋\n",
    "'''\n",
    "0~9 숫자 이미지로 구성.\n",
    "훈련 이미지 60000장, 시험 이미지 10000장\n",
    "28*28 크기의 회색조 이미지이며 각 픽셀은 0~255의 값을 가짐\n",
    "레이블은 정답에 해당하는 숫자\n",
    "'''\n",
    "# 처음 한 번은 몇 분 정도 걸림\n",
    "# 이미지를 numpy 배열로 저장\n",
    "# flatten : 입력 이미지를 평탄화(1차원 배열로)\n",
    "# normalize : 입력 이미지를 정규화(0.0~1.0 사이의 값으로)\n",
    "# one_hot_label : 레이블을 원-핫 인코딩 형태로 저장 => 정답을 뜻하는 원소만 1, 나머지는 0\n",
    "(x_train, t_train), (x_test, t_test) = load_mnist(flatten=True,\n",
    "                                                  normalize=False)\n",
    "\n",
    "# 각 데이터의 형상 출력\n",
    "print(x_train.shape)  # (60000, 784)\n",
    "print(t_train.shape)  # (60000,)\n",
    "print(x_test.shape)  # (10000, 784)\n",
    "print(t_test.shape)  # (10000,)"
   ]
  },
  {
   "cell_type": "code",
   "execution_count": 2,
   "metadata": {},
   "outputs": [
    {
     "name": "stdout",
     "output_type": "stream",
     "text": [
      "5\n",
      "(784,)\n",
      "(28, 28)\n"
     ]
    }
   ],
   "source": [
    "import numpy as np\n",
    "import sys, os\n",
    "sys.path.append(os.pardir)\n",
    "from dataset.mnist import load_mnist\n",
    "from PIL import Image                   # Python Image Library 모듈\n",
    "\n",
    "\n",
    "# 3.6.1 MNIST 이미지 확인해보기\n",
    "\n",
    "def img_show(img):\n",
    "    pil_img = Image.fromarray(np.uint8(img))                            # 넘파이로 저장된 이미지 데이터를 PIL용 데이터 객체로 변환\n",
    "    pil_img.show()\n",
    "\n",
    "\n",
    "(x_train, t_train), (x_test, t_test) = load_mnist(flatten=True,         # 1차원 넘파이 배열로 저장\n",
    "    normalize=False)                                                    # 정규화 실행 x\n",
    "\n",
    "img = x_train[0]\n",
    "label = t_train[0]\n",
    "print(label)  # 5\n",
    "print(img.shape)  # (784,)\n",
    "img = img.reshape(28, 28)  # 원래 이미지 모양으로 변형\n",
    "print(img.shape)  # (28, 28)\n",
    "\n",
    "img_show(img)\n"
   ]
  },
  {
   "cell_type": "code",
   "execution_count": 3,
   "metadata": {},
   "outputs": [
    {
     "name": "stdout",
     "output_type": "stream",
     "text": [
      "Accuracy:0.9352\n"
     ]
    }
   ],
   "source": [
    "# 3.6.2 신경망의 추론 처리\n",
    "'''\n",
    "입력층 784개, 출력층 10개,\n",
    "은닉층 50개, 100개로 구성(임의)\n",
    "'''\n",
    "\n",
    "\n",
    "def get_data():\n",
    "    (x_train, t_train), (x_test, t_test) = \\\n",
    "        load_mnist(flatten=True, normalize=True, one_hot_label=False)\n",
    "    return x_test, t_test\n",
    "\n",
    "\n",
    "def init_network():\n",
    "    with open(\"sample_weight.pkl\", 'rb') as f:\n",
    "        # 학습된 가중치 매개변수가 담긴 파일\n",
    "        # 학습 없이 바로 추론을 수행\n",
    "        network = pickle.load(f)\n",
    "\n",
    "    return network\n",
    "\n",
    "\n",
    "def predict(network, x):\n",
    "    W1, W2, W3 = network['W1'], network['W2'], network['W3']\n",
    "    b1, b2, b3 = network['b1'], network['b2'], network['b3']\n",
    "    a1 = np.dot(x, W1) + b1\n",
    "    z1 = sigmoid(a1)\n",
    "    a2 = np.dot(z1, W2) + b2\n",
    "    z2 = sigmoid(a2)\n",
    "    a3 = np.dot(z2, W3) + b3\n",
    "    y = softmax(a3)\n",
    "\n",
    "    return y\n",
    "\n",
    "\n",
    "x, t = get_data()\n",
    "network = init_network()\n",
    "accuracy_cnt = 0\n",
    "\n",
    "\n",
    "for i in range(len(x)):\n",
    "    y = predict(network, x[i])\n",
    "    p = np.argmax(y)  # 확률이 가장 높은 원소의 인덱스를 얻는다.\n",
    "    if p == t[i]:\n",
    "        accuracy_cnt += 1\n",
    "\n",
    "print(\"Accuracy:\" + str(float(accuracy_cnt) / len(x)))  # Accuracy:0.9352\n"
   ]
  },
  {
   "cell_type": "code",
   "execution_count": 4,
   "metadata": {},
   "outputs": [
    {
     "name": "stdout",
     "output_type": "stream",
     "text": [
      "Accuracy:1.8704\n"
     ]
    }
   ],
   "source": [
    "# 3.6.3 배치 처리\n",
    "x, t = get_data()\n",
    "network = init_network()\n",
    "\n",
    "batch_size = 100\n",
    "accuracy_cnt = 0\n",
    "\n",
    "for i in range(0, len(x), batch_size):\n",
    "    x_batch = x[i:i+batch_size]\n",
    "    y_batch = predict(network, x_batch)\n",
    "    p = np.argmax(y_batch, axis=1)\n",
    "    accuracy_cnt += np.sum(p == t[i:i+batch_size])\n",
    "\n",
    "print(\"Accuracy:\" + str(float(accuracy_cnt) / len(x)))  # Accuracy:0.9352"
   ]
  },
  {
   "cell_type": "markdown",
   "metadata": {},
   "source": [
    "**********************\n",
    "QUIZ"
   ]
  },
  {
   "cell_type": "code",
   "execution_count": 2,
   "metadata": {},
   "outputs": [
    {
     "name": "stdout",
     "output_type": "stream",
     "text": [
      "[ 90 100]\n"
     ]
    }
   ],
   "source": [
    "# 1. 주어진 np행렬의 곱 코드의 오류를 수정\n",
    "\n",
    "'''기존코드\n",
    "\n",
    "import numpy as np\n",
    "\n",
    "A = np.array([1,2,3,4])\n",
    "B = np.array([[5,6,7,8],[9,10,11,12]])\n",
    "print(np.dot(A,B))\n",
    "'''\n",
    "\n",
    "### dot(점곱)이 아니라 행렬의 곱 * 을 사용하여 연산한다면 브로드캐스트 작동\n",
    "\n",
    "# 수정 1 : 연산 행과 열이 4가 되도록\n",
    "\n",
    "import numpy as np\n",
    "\n",
    "A = np.array([1,2,3,4])\n",
    "B = np.array([[5,6],[7,8],[9,10],[11,12]])\n",
    "\n",
    "print('alter1 : ', np.dot(A,B))\n",
    "\n",
    "\n",
    "# 수정 2 : 연산 행과 열이 2가 되도록\n",
    "import numpy as np\n",
    "\n",
    "A = np.array([1,2],[3,4])\n",
    "B = np.array([[5,6,7,8],[9,10,11,12]])\n",
    "\n",
    "print('alter2 : ', np.dot(A,B))"
   ]
  },
  {
   "cell_type": "code",
   "execution_count": 1,
   "metadata": {},
   "outputs": [
    {
     "name": "stdout",
     "output_type": "stream",
     "text": [
      "[0.95642899 1.1810203 ]\n"
     ]
    }
   ],
   "source": [
    "# 2. 4차원 신경망 만들기\n",
    "# 3층 신경망 코드 기반\n",
    "# w4, b4 추가\n",
    "# 결과값 지정 x \n",
    "\n",
    "import numpy as np\n",
    "\n",
    "# 3.2.4 시그모이드 함수 구현하기\n",
    "def sigmoid(x):\n",
    "    return 1 / (1 + np.exp(-x))\n",
    "\n",
    "# 항등함수\n",
    "def identity_function(x):\n",
    "    return x\n",
    "\n",
    "# 3.4.3 구현 정리\n",
    "def init_network():\n",
    "    network = {}\n",
    "    network['W1'] = np.array([[0.1, 0.3, 0.5], [0.2, 0.4, 0.6]])\n",
    "    network['W2'] = np.array([[0.1, 0.4], [0.2, 0.5], [0.3, 0.6]])\n",
    "    network['W3'] = np.array([[0.1, 0.3], [0.2, 0.4]])\n",
    "    network['W4'] = np.array([[0.5, 0.6], [0.7, 0.8]])              # W4 추가\n",
    "    \n",
    "    network['b1'] = np.array([0.1, 0.2, 0.3])\n",
    "    network['b2'] = np.array([0.1, 0.2])\n",
    "    network['b3'] = np.array([0.1, 0.2])\n",
    "    network['b4'] = np.array([0.2, 0.3])                            # b4 추가\n",
    "\n",
    "    return network\n",
    "\n",
    "def forward(network, x):\n",
    "    W1, W2, W3, W4 = network['W1'], network['W2'], network['W3'], network['W4']     # W4\n",
    "    b1, b2, b3, b4 = network['b1'], network['b2'], network['b3'], network['b4']     # b4\n",
    "\n",
    "    a1 = np.dot(x, W1) + b1\n",
    "    z1 = sigmoid(a1)\n",
    "    a2 = np.dot(z1, W2) + b2\n",
    "    z2 = sigmoid(a2)\n",
    "    a3 = np.dot(z2, W3) + b3\n",
    "    z3 = sigmoid(a3)                    # 3층 신경망의 결과 저장\n",
    "    a4 = np.dot(z3, W4) + b4            # 이를 추가한 가중치 및 편향값으로 계산\n",
    "    y = identity_function(a4)           # 4층신경망 결과 도출\n",
    "\n",
    "    return y\n",
    "\n",
    "network = init_network()\n",
    "x = np.array([1.0,0.5])     #  x1 = 1.0 , x2 = 0.5\n",
    "y = forward(network, x)     # 기존값(3층신경망) = [0.31682708  0.69627909]\n",
    "\n",
    "print(y)"
   ]
  },
  {
   "cell_type": "code",
   "execution_count": null,
   "metadata": {},
   "outputs": [],
   "source": []
  }
 ],
 "metadata": {
  "kernelspec": {
   "display_name": "Python 3",
   "language": "python",
   "name": "python3"
  },
  "language_info": {
   "codemirror_mode": {
    "name": "ipython",
    "version": 3
   },
   "file_extension": ".py",
   "mimetype": "text/x-python",
   "name": "python",
   "nbconvert_exporter": "python",
   "pygments_lexer": "ipython3",
   "version": "3.8.3"
  }
 },
 "nbformat": 4,
 "nbformat_minor": 2
}
