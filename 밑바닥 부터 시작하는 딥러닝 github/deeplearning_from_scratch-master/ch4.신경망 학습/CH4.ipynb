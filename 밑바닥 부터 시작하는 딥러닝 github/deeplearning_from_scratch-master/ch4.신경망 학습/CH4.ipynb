{
 "cells": [
  {
   "cell_type": "markdown",
   "metadata": {},
   "source": [
    "### 오차제곱합"
   ]
  },
  {
   "cell_type": "code",
   "execution_count": 2,
   "metadata": {},
   "outputs": [
    {
     "data": {
      "text/plain": [
       "0.5975"
      ]
     },
     "execution_count": 2,
     "metadata": {},
     "output_type": "execute_result"
    }
   ],
   "source": [
    "import numpy as np\n",
    "\n",
    "def sum_squares_error(y,t) :\n",
    "    return 0.5 * np.sum((y-t)**2)\n",
    "\n",
    "# 정답은 2 (2번째 원소가 1 -> 원-핫 코딩)\n",
    "t = [0,0,1,0,0,0,0,0,0,0]\n",
    "\n",
    "# 예 1 : '2'일 확률이 가장 높다고 추정 (0.6)\n",
    "y = [0.1, 0.05, 0.6, 0.0, 0.05, 0.1, 0.0, 0.1, 0.0, 0.0]\n",
    "sse1 = sum_squares_error(np.array(y), np.array(t))\n",
    "print(sse1)                 # 0.09750000000000003\n",
    "\n",
    "# 예 2 : '7'일 확률이 가장 높다고 추정함 (0.6)\n",
    "y2 = [0.1, 0.05, 0.1, 0.0, 0.05, 0.1, 0.0, 0.6, 0.0, 0.0]\n",
    "sse2 = sum_squares_error(np.array(y2), np.array(t))\n",
    "print(sse2)                 # 0.5975\n"
   ]
  },
  {
   "cell_type": "markdown",
   "metadata": {},
   "source": [
    "****\n",
    "### 교차 엔트로피"
   ]
  },
  {
   "cell_type": "code",
   "execution_count": 5,
   "metadata": {},
   "outputs": [
    {
     "data": {
      "text/plain": [
       "2.302584092994546"
      ]
     },
     "execution_count": 5,
     "metadata": {},
     "output_type": "execute_result"
    }
   ],
   "source": [
    "def cross_entropy_error(y,t) : \n",
    "    delta = 1e-7\n",
    "    return -np.sum(t*np.log(y+delta))\n",
    "\n",
    "t = [0,0,1,0,0,0,0,0,0,0]\n",
    "y = [0.1, 0.05, 0.6, 0.0, 0.05, 0.1, 0.0, 0.1, 0.0, 0.0]\n",
    "cross_entropy_error(np.array(y), np.array(t))               # 0.510825457099338\n",
    "\n",
    "y2 = [0.1, 0.05, 0.1, 0.0, 0.05, 0.1, 0.0, 0.6, 0.0, 0.0]\n",
    "cross_entropy_error(np.array(y2), np.array(t))              # 2.302584092994546\n"
   ]
  },
  {
   "cell_type": "markdown",
   "metadata": {},
   "source": [
    "****\n",
    "### 미니배치"
   ]
  },
  {
   "cell_type": "code",
   "execution_count": 17,
   "metadata": {},
   "outputs": [
    {
     "name": "stdout",
     "output_type": "stream",
     "text": [
      "(60000, 784)\n",
      "(60000, 10)\n"
     ]
    }
   ],
   "source": [
    "import numpy as np\n",
    "import sys\n",
    "import os\n",
    "sys.path.append(os.pardir)\n",
    "from dataset.mnist import load_mnist\n",
    "\n",
    "# 4.2.3 미니배치 학습\n",
    "# 훈련 데이터 전체에 대한 오차함수\n",
    "# E = -1/N * ∑ _n (∑ _k (tk * log(yk)))\n",
    "# N : 데이터의 개수\n",
    "# 훈련 데이터 전체에 대한 손실 함수를 계산하기에는 시간이 오래걸리기 때문에\n",
    "# 일부를 추려 전체의 근사치로 이용할 수 있다.\n",
    "(x_train, t_train), (x_test, t_test) = \\\n",
    "    load_mnist(normalize=True, one_hot_label=True)\n",
    "\n",
    "print(x_train.shape)  # (60000, 784)\n",
    "print(t_train.shape)  # 원-핫 인코딩 된 정답 레이블 (60000, 10)\n",
    "\n",
    "# 무작위 10개 추출\n",
    "train_size = x_train.shape[0]\n",
    "batch_size = 10\n",
    "batch_mask = np.random.choice(train_size, batch_size)   # 미니배치 지정 -> np.array로 출력\n",
    "x_batch = x_train[batch_mask]\n",
    "t_batch = t_train[batch_mask]\n",
    "\n",
    "\n",
    "# 4.2.4 (배치용) 교차 엔트로피 오차 구현하기\n",
    "def cross_entropy_error(y, t):\n",
    "    if y.ndim == 1:\n",
    "        t = t.reshape(1, t.size)\n",
    "        y = y.reshape(1, y.size)\n",
    "\n",
    "    batch_size = y.shape[0]\n",
    "    return -np.sum(t * np.log(y[np.arange(batch_size), t])) / batch_size\n",
    "\n",
    "\n",
    "# 4.2.5 왜 손실 함수를 설정하는가?\n",
    "# 신경망을 학습할 때 정확도를 지표로 삼아서는 안 된다.\n",
    "# 정확도를 지표로 하면 매개변수의 미분이 대부분의 장소에서 0이 되기 때문이다.\n",
    "# (매개변수의 미소한 변화에는 거의 반응을 보이지 않고 그 값이 분연속적으로 변화)\n"
   ]
  },
  {
   "cell_type": "code",
   "execution_count": null,
   "metadata": {},
   "outputs": [],
   "source": [
    "# (배치용) 교차 엔트로피 오차 구현하기\n",
    "\n",
    "def cross_entropy_error_batch(y,t) :\n",
    "    if y.dim == 1 :\n",
    "        t = t.reshape(1, t.size)\n",
    "        y = y.reshape(1, y.size)\n",
    "\n",
    "    batch_size = y.shape[0]\n",
    "    return -np.sum(t*np.log(y+1e-7)) / batch_size"
   ]
  },
  {
   "cell_type": "markdown",
   "metadata": {},
   "source": [
    "***\n",
    "### 수치 미분"
   ]
  },
  {
   "cell_type": "code",
   "execution_count": 9,
   "metadata": {},
   "outputs": [],
   "source": [
    "import numpy as np\n",
    "import matplotlib.pylab as plt\n",
    "\n",
    "\n",
    "# 4.3.1 미분\n",
    "# 나쁜 구현 예\n",
    "def numerical_diff_bad(f, x):\n",
    "    h = 10e-50\n",
    "    return (f(x + h) - f(x)) / h\n",
    "# 1. 반올림 오차 -> 해결 : h값이 너무 작아 반올림 오차를 일으킬 수 있음 10e-4정도가 적당하다고 알려짐\n",
    "# 2. 함수 f의 차분 : 전방 차분에서는 차분이 0이 될 수 없어 오차가 발생\n",
    "#  -> 해결 : 오차를 줄이기 위해 중심 차분(중앙 차분)을 사용\n",
    "\n",
    "# 개선\n",
    "def numerical_diff(f, x):\n",
    "    h = 10e-4               # 0.0001\n",
    "    return (f(x + h) - f(x - h)) / (2 * h)\n"
   ]
  },
  {
   "cell_type": "code",
   "execution_count": 10,
   "metadata": {},
   "outputs": [
    {
     "data": {
      "text/plain": [
       "[<matplotlib.lines.Line2D at 0x1bfffcad730>]"
      ]
     },
     "execution_count": 10,
     "metadata": {},
     "output_type": "execute_result"
    },
    {
     "data": {
      "image/png": "[encoded data removed]",
      "text/plain": [
       "<Figure size 640x480 with 1 Axes>"
      ]
     },
     "metadata": {},
     "output_type": "display_data"
    }
   ],
   "source": [
    "# 4.3.2 수치 미분의 예\n",
    "# 수치 미분 : 아주 작은 차분으로 미분, 근사치로 계산\n",
    "# 해석적 미분 : 학교에서 배운 일반적인 미분 (전방 차분 이용)\n",
    " \n",
    "# y = 0.01x² + 0.1x\n",
    "def function_1(x):\n",
    "    return 0.01*x**2 + 0.1*x\n",
    "\n",
    "\n",
    "x = np.arange(0.0, 20.0, 0.1)  # 0에서 20까지 간격 0.1인 배열 x를 만든다.\n",
    "y = function_1(x)\n",
    "plt.xlabel(\"x\")\n",
    "plt.ylabel(\"f(x)\")\n",
    "plt.plot(x, y)\n",
    "plt.show()"
   ]
  },
  {
   "cell_type": "code",
   "execution_count": 11,
   "metadata": {},
   "outputs": [
    {
     "name": "stdout",
     "output_type": "stream",
     "text": [
      "0.200000000000089\n",
      "0.29999999999996696\n"
     ]
    }
   ],
   "source": [
    "# x = 5, 10일때 미분\n",
    "# 함수 자체를 넘겨줌\n",
    "print(numerical_diff(function_1, 5))   # 0.200000000000089\n",
    "print(numerical_diff(function_1, 10))  # 0.29999999999996696"
   ]
  },
  {
   "cell_type": "code",
   "execution_count": 14,
   "metadata": {},
   "outputs": [
    {
     "name": "stdout",
     "output_type": "stream",
     "text": [
      "<function tangent_line.<locals>.<lambda> at 0x000001BFFB360B80>\n"
     ]
    },
    {
     "data": {
      "image/png": "[encoded data removed]",
      "text/plain": [
       "<Figure size 640x480 with 1 Axes>"
      ]
     },
     "metadata": {},
     "output_type": "display_data"
    }
   ],
   "source": [
    "# 접선의 함수를 구하는 함수\n",
    "def tangent_line(f, x):\n",
    "        d = numerical_diff(f, x)\n",
    "        # print(d)\n",
    "        y = f(x) - d*x\n",
    "        return lambda t: d*t + y\n",
    "\n",
    "\n",
    "tf = tangent_line(function_1, 5)                # function_1 함수의 x=5 지점에서의 접선\n",
    "y2 = tf(x)                                      # x 지점에서의 x=5 접선 위 y값 반환\n",
    "plt.plot(x, y2)\n",
    "plt.show()"
   ]
  },
  {
   "cell_type": "code",
   "execution_count": 15,
   "metadata": {},
   "outputs": [
    {
     "name": "stdout",
     "output_type": "stream",
     "text": [
      "5.999999999998451\n",
      "8.000000000000895\n"
     ]
    }
   ],
   "source": [
    "# 4.3.3 편미분\n",
    "# f(x0, x1) = x0² + x1²\n",
    "def function_2(x):\n",
    "    return x[0]**2 + x[1]**2\n",
    "    # or return np.sum(x**2)\n",
    "\n",
    "# x0 = 3, x1 = 4일 때, x0에 대한 편미분을 구하라.\n",
    "def function_tmp1(x0):\n",
    "    return x0**2 + 4.0**2.0\n",
    "\n",
    "\n",
    "# x0 = 3, x1 = 4일 때, x1에 대한 편미분을 구하라.\n",
    "def function_tmp2(x1):\n",
    "    return 3.0**2.0 + x1 * x1\n",
    "\n",
    "\n",
    "print(numerical_diff(function_tmp1, 3.0))  # 5.999999999998451\n",
    "print(numerical_diff(function_tmp2, 4.0))  # 8.000000000000895"
   ]
  },
  {
   "cell_type": "markdown",
   "metadata": {},
   "source": [
    "***\n",
    "### 기울기"
   ]
  },
  {
   "cell_type": "code",
   "execution_count": 3,
   "metadata": {},
   "outputs": [
    {
     "name": "stdout",
     "output_type": "stream",
     "text": [
      "[6. 8.]\n",
      "[0. 4.]\n",
      "[6. 0.]\n"
     ]
    }
   ],
   "source": [
    "import numpy as np\n",
    "import matplotlib.pylab as plt\n",
    "\n",
    "\n",
    "# 앞 절에서 x0, x1에 대한 편미분을 변수별로 따로 계산했음.\n",
    "# x0, x1의 편미분을 동시에 계산하고 싶다면?\n",
    "# x0 = 3, x1 = 4일 때 (x0, x1) 양쪽의 편미분을 묶어 벡터로 정리한 것을 기울기gradient라고 한다.\n",
    "def numerical_gradient(f, x):\n",
    "    h = 1e-4\n",
    "    grad = np.zeros_like(x)  # x와 형상이 같은 배열을 생성\n",
    "\n",
    "    for idx in range(x.size):\n",
    "        tmp_val = x[idx]\n",
    "        # f(x+h) 계산\n",
    "        x[idx] = tmp_val + h\n",
    "        fxh1 = f(x)             # f(x+h)\n",
    "\n",
    "        # f(x-h) 계산\n",
    "        x[idx] = tmp_val - h\n",
    "        fxh2 = f(x)             # f(x-h)\n",
    "\n",
    "        grad[idx] = (fxh1 - fxh2) / (2 * h)     # 중심차분(중앙차분)을 이용한 기울기 계산\n",
    "        x[idx] = tmp_val  # 값 복원\n",
    "\n",
    "    return grad\n",
    "\n",
    "\n",
    "# f(x0, x1) = x0² + x1²\n",
    "def function_2(x):\n",
    "    return x[0]**2 + x[1]**2\n",
    "    # or return np.sum(x**2)\n",
    "\n",
    "\n",
    "print(numerical_gradient(function_2, np.array([3.0, 4.0])))  # [ 6.  8.]\n",
    "print(numerical_gradient(function_2, np.array([0.0, 2.0])))  # [ 0.  4.]\n",
    "print(numerical_gradient(function_2, np.array([3.0, 0.0])))  # [ 6.  0.]\n"
   ]
  },
  {
   "cell_type": "markdown",
   "metadata": {},
   "source": [
    "***\n",
    "### 경사법"
   ]
  },
  {
   "cell_type": "code",
   "execution_count": 4,
   "metadata": {},
   "outputs": [
    {
     "name": "stdout",
     "output_type": "stream",
     "text": [
      "[-6.11110793e-10  8.14814391e-10]\n",
      "[-2.58983747e+13 -1.29524862e+12]\n",
      "[-2.99999994  3.99999992]\n"
     ]
    },
    {
     "data": {
      "image/png": "[encoded data removed]",
      "text/plain": [
       "<Figure size 640x480 with 1 Axes>"
      ]
     },
     "metadata": {},
     "output_type": "display_data"
    }
   ],
   "source": [
    "# 4.4.1 경사법(경사 하강법)\n",
    "# x0 = x0 - η*∂f/∂x0\n",
    "# x1 = x1 - η*∂f/∂x1\n",
    "# η(eta) : 갱신하는 양, 학습률learning rate\n",
    "# 위 식을 반복\n",
    "\n",
    "\n",
    "# f:최적화하려는 함수\n",
    "# init_x : 초깃값\n",
    "# lr : 학습률\n",
    "# step_num : 반복횟수\n",
    "\n",
    "import numpy as np\n",
    "\n",
    "def gradient_descent(f, init_x, lr=0.01, step_num=100):\n",
    "    x = init_x\n",
    "    x_history = []      # x가 변해온 모든 값을 저장\n",
    "\n",
    "    for i in range(step_num):\n",
    "        x_history.append(x.copy())\n",
    "        grad = numerical_gradient(f, x)     # 기울기 계산 (중심 차분) == 해당 지점에서의 미분 값\n",
    "        x -= lr * grad                      # 갱신된 x값\n",
    "\n",
    "    return x, np.array(x_history)           # 최종 갱신 값과 갱신 히스토리 반환\n",
    "\n",
    "\n",
    "# 경사법으로 f(x0, x1) = x0² + x1²의 최솟값을 구해라\n",
    "init_x = np.array([-3.0, 4.0])\n",
    "x, x_history = gradient_descent(function_2, init_x, lr=0.1)\n",
    "print(x)  # [ -6.11110793e-10   8.14814391e-10]\n",
    "\n",
    "# 학습률이 너무 큼\n",
    "init_x = np.array([-3.0, 4.0])\n",
    "x, x_history = gradient_descent(function_2, init_x, lr=10.0)\n",
    "print(x)  # [ -2.58983747e+13  -1.29524862e+12] 발산함\n",
    "\n",
    "# 학습률이 너무 작음\n",
    "init_x = np.array([-3.0, 4.0])\n",
    "x, x_history = gradient_descent(function_2, init_x, lr=1e-10)\n",
    "print(x)  # [-2.99999994  3.99999992] 거의 변화 없음\n",
    "\n",
    "# 그래프\n",
    "init_x = np.array([-3.0, 4.0])\n",
    "x, x_history = gradient_descent(function_2, init_x, lr=0.1, step_num=20)\n",
    "\n",
    "plt.plot([-5, 5], [0, 0], '--b')\n",
    "plt.plot([0, 0], [-5, 5], '--b')\n",
    "plt.plot(x_history[:, 0], x_history[:, 1], 'o') # x0, x1\n",
    "\n",
    "plt.xlim(-3.5, 3.5)\n",
    "plt.ylim(-4.5, 4.5)\n",
    "plt.xlabel(\"X0\")\n",
    "plt.ylabel(\"X1\")\n",
    "plt.show()"
   ]
  },
  {
   "cell_type": "code",
   "execution_count": 16,
   "metadata": {},
   "outputs": [
    {
     "name": "stdout",
     "output_type": "stream",
     "text": [
      "[[ 0.66623344  0.78763903 -1.13161613]\n",
      " [-0.23621657 -0.75559489  0.28235737]]\n",
      "[ 0.18714515 -0.20745199 -0.42484804]\n",
      "0\n",
      "1.4077964310763427\n",
      "[[ 0.27073119  0.18245969 -0.45319088]\n",
      " [ 0.40609679  0.27368954 -0.67978632]]\n"
     ]
    }
   ],
   "source": [
    "import sys\n",
    "import os\n",
    "import numpy as np\n",
    "sys.path.append(os.pardir)\n",
    "from common.functions import softmax, cross_entropy_error\n",
    "from common.gradient import numerical_gradient\n",
    "\n",
    "\n",
    "# 4.4.2 신경망에서의 기울기\n",
    "class simpleNet:\n",
    "    \"\"\"docstring for simpleNet\"\"\"\n",
    "    def __init__(self):\n",
    "        self.W = np.random.randn(2, 3)  # 정규분포로 초기화\n",
    "\n",
    "    def predict(self, x):\n",
    "        return np.dot(x, self.W)        # Input x 가중치\n",
    "\n",
    "    def loss(self, x, t):\n",
    "        z = self.predict(x)\n",
    "        y = softmax(z)                      # 예측값\n",
    "        loss = cross_entropy_error(y, t)    # 손실함수값 (교차 엔트로피 에러)\n",
    "\n",
    "        return loss\n",
    "\n",
    "\n",
    "net = simpleNet()\n",
    "print(net.W)  # 가중치 매개변수(랜덤)\n",
    "x = np.array([0.6, 0.9])\n",
    "p = net.predict(x)\n",
    "print(p)\n",
    "print(np.argmax(p))  # 최댓값의 인덱스\n",
    "\n",
    "t = np.array([0, 0, 1])  # 정답 레이블\n",
    "print(net.loss(x, t))\n",
    "\n",
    "\n",
    "def f(W):\n",
    "    return net.loss(x, t)\n",
    "\n",
    "\n",
    "dW = numerical_gradient(f, net.W)\n",
    "print(dW)\n"
   ]
  },
  {
   "cell_type": "markdown",
   "metadata": {},
   "source": [
    "***\n",
    "### 2층 신경망 클래스 구현\n",
    "- two_layer_net.py"
   ]
  },
  {
   "cell_type": "markdown",
   "metadata": {},
   "source": [
    "***\n",
    "### 미니배치 학습 구현\n",
    "- train_neuralnet.py"
   ]
  }
 ],
 "metadata": {
  "kernelspec": {
   "display_name": "Python 3",
   "language": "python",
   "name": "python3"
  },
  "language_info": {
   "codemirror_mode": {
    "name": "ipython",
    "version": 3
   },
   "file_extension": ".py",
   "mimetype": "text/x-python",
   "name": "python",
   "nbconvert_exporter": "python",
   "pygments_lexer": "ipython3",
   "version": "3.8.3"
  }
 },
 "nbformat": 4,
 "nbformat_minor": 2
}
